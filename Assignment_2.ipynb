{
 "cells": [
  {
   "cell_type": "markdown",
   "metadata": {},
   "source": [
    "1.What are the two values of the Boolean data type? How do you write them?\n",
    "\n",
    "The two values of the boolean data type are True and False.\n",
    "1 for True and 0 for False."
   ]
  },
  {
   "cell_type": "markdown",
   "metadata": {},
   "source": [
    "2.What are the three different types of Boolean operators?\n",
    "\n",
    "And:True if both are true.Example a and b\n",
    "\n",
    "Not:True only if false.Example not b\n",
    "\n",
    "OR:True if atleast one is true.Example a or b"
   ]
  },
  {
   "cell_type": "markdown",
   "metadata": {},
   "source": [
    "3.Make a list of each Boolean operator's truth tables (i.e. every possible combination of Boolean values for the operator and what it evaluate ).\n",
    "\n",
    "AND:\n",
    "True and True=True\n",
    "\n",
    "False and False=False\n",
    "\n",
    "True and False=False\n",
    "\n",
    "False and True=False\n",
    "\n",
    "OR:\n",
    "True or False=True\n",
    "\n",
    "True or True=True\n",
    "\n",
    "False or True=True\n",
    "\n",
    "False or False=False\n",
    "\n",
    "NOT:\n",
    "not True=False\n",
    "\n",
    "not False=True"
   ]
  },
  {
   "cell_type": "markdown",
   "metadata": {},
   "source": [
    "4.What are the values of the following expressions?\n",
    "(5 > 4) and (3 == 5)\n",
    ",not (5 > 4)\n",
    ",(5 > 4) or (3 == 5)\n",
    ",not ((5 > 4) or (3 == 5))\n",
    ",(True and True) and (True == False)\n",
    ",(not False) or (not True)\n",
    "\n",
    "(5 > 4) and (3 == 5)-False\n",
    "\n",
    "not (5 > 4)-False\n",
    "\n",
    "(5 > 4) or (3 == 5)-True\n",
    "\n",
    "not ((5 > 4) or (3 == 5))-False\n",
    "\n",
    "(True and True) and (True == False)-False\n",
    "\n",
    "(not False) or (not True)-True"
   ]
  },
  {
   "cell_type": "markdown",
   "metadata": {},
   "source": [
    "5.What are the six comparison operators?\n",
    "\n",
    "a)Less than(<):The Less Than operator compares two values and returns True if the value on the left is less than the value on the right. Otherwise, it returns False.\n",
    "\n",
    "b)Less than or equal to(<=):The less than or equal to operator compares two values and returns True if the left value is less than or equal to the right value. Otherwise, it returns False.\n",
    "\n",
    "c)Greater than(>):The greater than operator compares two values and returns True if the left value is greater than the right value. Otherwise, it returns False.\n",
    "\n",
    "d)Greater than or equal to(>=):The greater than or equal to operator compares two values and returns True if the left value is greater than or equal to the right value. Otherwise, it returns False.\n",
    "\n",
    "e)Equal to(==):The equal to operator compares two values and returns True if the left value is equal to the right value. Otherwise, it returns False.\n",
    "\n",
    "f)Not equal to(!=):The not equal to operator compares two values and returns True if the left value isn’t equal to the right value. Otherwise, it returns False."
   ]
  },
  {
   "cell_type": "markdown",
   "metadata": {},
   "source": [
    "6.How do you tell the difference between the equal to and assignment operators?Describe a condition and when you would use one.\n",
    "\n",
    "EQUAL TO:\n",
    "1)The “=” is an assignment operator.\n",
    "\n",
    "2)It is used for assigning the value to a variable.\n",
    "\n",
    "3)Constant term cannot be placed on left hand side.\n",
    "Example: 5=x; is invalid.\n",
    "\n",
    "ASSIGNMENT:\n",
    "1)The \"==\" is a relational or comparison operator.\n",
    "\n",
    "2)It is used for comparing two values. It returns 1 if both the values are equal otherwise returns 0.\n",
    "\n",
    "3)Constant term can be placed in the left hand side.\n",
    "Example: 5==5 is valid and returns 1."
   ]
  },
  {
   "cell_type": "markdown",
   "metadata": {},
   "source": [
    "7.Identify the three blocks in this code:\n",
    "spam = 0\n",
    "if spam == 10:\n",
    "print('eggs')\n",
    "if spam > 5:\n",
    "print('bacon')\n",
    "else:\n",
    "print('ham')\n",
    "print('spam')\n",
    "print('spam')\n",
    "\n",
    "\n",
    "FIRST BLOCK:\n",
    "if spam == 10:\n",
    "print('eggs')\n",
    "\n",
    "SECOND BLOCK:\n",
    "if spam > 5:\n",
    "print('bacon')\n",
    "\n",
    "THIRD BLOCK:\n",
    "else:\n",
    "print('ham')\n",
    "print('spam')\n",
    "print('spam')"
   ]
  },
  {
   "cell_type": "code",
   "execution_count": null,
   "metadata": {},
   "outputs": [],
   "source": [
    "8.Write code that prints Hello if 1 is stored in spam, prints Howdy if 2 is stored in spam, and prints Greetings! if anything else is stored in spam.\n",
    "\n",
    "spam=int(input(\"Enter a number:\"))\n",
    "if (spam==1):\n",
    "    print(\"Hello\")\n",
    "elif (spam==2):\n",
    "    print(\"Howdy\")\n",
    "else:\n",
    "    print(\"Greetings!\")"
   ]
  },
  {
   "cell_type": "markdown",
   "metadata": {},
   "source": [
    "9.If your programme is stuck in an endless loop, what keys you’ll press?\n",
    "\n",
    "CTRL+C keys."
   ]
  },
  {
   "cell_type": "markdown",
   "metadata": {},
   "source": [
    "10.How can you tell the difference between break and continue?\n",
    "\n",
    "BREAK:\n",
    "a)It is used to terminate the loop or statement in which it is present. After that, the control will pass to the statements that are present after the break statement, if available.\n",
    "\n",
    "b)It stop the continuation of the loop.\n",
    "\n",
    "c)It is used with the switch and label.\n",
    "\n",
    "CONTINUE:\n",
    "a)It will move the execution to the start of the loop.\n",
    "\n",
    "b)It does'nt stop the continuation of loop and it stops the current.\n",
    "\n",
    "c)It Can't be executed with switch and labels."
   ]
  },
  {
   "cell_type": "markdown",
   "metadata": {},
   "source": [
    "11.In a for loop, what is the difference between range(10), range(0, 10), and range(0, 10, 1)?\n",
    "\n",
    "1)range(10):\n",
    "a)range(stop) takes one argument.\n",
    "\n",
    "b)When user call range(stop), user will get a series of numbers that starts at 0 and includes every whole number up to, but not including, the number that user have provided as the stop.\n",
    "Ex:for i in range(10):\n",
    "        print(i,end=\" \")\n",
    "        \n",
    "Output:0 1 2 3 4 5 6 7 8 9\n",
    "\n",
    "2)range(0, 10):\n",
    "a)range(start, stop) takes two arguments.\n",
    "\n",
    "b)When user call range(start, stop),user get to decide not only where the series of numbers stops but also where it starts, so user don’t have to start at 0 all the time.\n",
    "Ex:for i in range(0, 10):\n",
    "        print(i,end=\" \")\n",
    "        \n",
    "Output:0 1 2 3 4 5 6 7 8 9 \n",
    "\n",
    "3)range(0, 10, 1):\n",
    "a)range(start, stop, step) takes three arguments.\n",
    "\n",
    "b)When the user call range(start, stop, step),the user can choose not only where the series of numbers will start and stop but also how big the difference will be between one number and the next.Step by default will be 1.\n",
    "Ex:for i in range(0, 10, 1):\n",
    "        print(i,end=\" \")\n",
    "        \n",
    "Output:0 1 2 3 4 5 6 7 8 9    "
   ]
  },
  {
   "cell_type": "code",
   "execution_count": null,
   "metadata": {},
   "outputs": [],
   "source": [
    "12.Write a short program that prints the numbers 1 to 10 using a for loop. Then write an equivalent program that prints the numbers 1 to 10 using a while loop.\n",
    "\n",
    "FOR LOOP:\n",
    "for i in range(1,11,1):\n",
    "    print(i,end=\" \")\n",
    "\n",
    "Output:1 2 3 4 5 6 7 8 9 10 \n",
    "\n",
    "\n",
    "WHILE LOOP:\n",
    "i=1\n",
    "while i<=10:\n",
    "    print(i,end=\" \")\n",
    "    i=i+1\n",
    "    \n",
    "Output:1 2 3 4 5 6 7 8 9 10  "
   ]
  },
  {
   "cell_type": "markdown",
   "metadata": {},
   "source": [
    "13.If you had a function named bacon() inside a module named spam, how would you call it after importing spam?\n",
    "\n",
    "spam.bacon()"
   ]
  },
  {
   "cell_type": "code",
   "execution_count": null,
   "metadata": {},
   "outputs": [],
   "source": []
  },
  {
   "cell_type": "code",
   "execution_count": null,
   "metadata": {},
   "outputs": [],
   "source": []
  },
  {
   "cell_type": "code",
   "execution_count": null,
   "metadata": {},
   "outputs": [],
   "source": []
  },
  {
   "cell_type": "code",
   "execution_count": null,
   "metadata": {},
   "outputs": [],
   "source": []
  },
  {
   "cell_type": "code",
   "execution_count": null,
   "metadata": {},
   "outputs": [],
   "source": []
  },
  {
   "cell_type": "code",
   "execution_count": null,
   "metadata": {},
   "outputs": [],
   "source": []
  },
  {
   "cell_type": "code",
   "execution_count": null,
   "metadata": {},
   "outputs": [],
   "source": []
  },
  {
   "cell_type": "code",
   "execution_count": null,
   "metadata": {},
   "outputs": [],
   "source": []
  },
  {
   "cell_type": "code",
   "execution_count": null,
   "metadata": {},
   "outputs": [],
   "source": []
  },
  {
   "cell_type": "code",
   "execution_count": null,
   "metadata": {},
   "outputs": [],
   "source": []
  },
  {
   "cell_type": "code",
   "execution_count": null,
   "metadata": {},
   "outputs": [],
   "source": []
  },
  {
   "cell_type": "code",
   "execution_count": null,
   "metadata": {},
   "outputs": [],
   "source": []
  },
  {
   "cell_type": "code",
   "execution_count": null,
   "metadata": {},
   "outputs": [],
   "source": []
  },
  {
   "cell_type": "code",
   "execution_count": null,
   "metadata": {},
   "outputs": [],
   "source": []
  },
  {
   "cell_type": "code",
   "execution_count": null,
   "metadata": {},
   "outputs": [],
   "source": []
  },
  {
   "cell_type": "code",
   "execution_count": null,
   "metadata": {},
   "outputs": [],
   "source": []
  },
  {
   "cell_type": "code",
   "execution_count": null,
   "metadata": {},
   "outputs": [],
   "source": []
  },
  {
   "cell_type": "code",
   "execution_count": null,
   "metadata": {},
   "outputs": [],
   "source": []
  },
  {
   "cell_type": "code",
   "execution_count": null,
   "metadata": {},
   "outputs": [],
   "source": []
  },
  {
   "cell_type": "code",
   "execution_count": null,
   "metadata": {},
   "outputs": [],
   "source": []
  },
  {
   "cell_type": "code",
   "execution_count": null,
   "metadata": {},
   "outputs": [],
   "source": []
  },
  {
   "cell_type": "code",
   "execution_count": null,
   "metadata": {},
   "outputs": [],
   "source": []
  },
  {
   "cell_type": "code",
   "execution_count": null,
   "metadata": {},
   "outputs": [],
   "source": []
  },
  {
   "cell_type": "code",
   "execution_count": null,
   "metadata": {},
   "outputs": [],
   "source": []
  },
  {
   "cell_type": "code",
   "execution_count": null,
   "metadata": {},
   "outputs": [],
   "source": []
  },
  {
   "cell_type": "code",
   "execution_count": null,
   "metadata": {},
   "outputs": [],
   "source": []
  },
  {
   "cell_type": "code",
   "execution_count": null,
   "metadata": {},
   "outputs": [],
   "source": []
  },
  {
   "cell_type": "code",
   "execution_count": null,
   "metadata": {},
   "outputs": [],
   "source": []
  },
  {
   "cell_type": "code",
   "execution_count": null,
   "metadata": {},
   "outputs": [],
   "source": []
  },
  {
   "cell_type": "code",
   "execution_count": null,
   "metadata": {},
   "outputs": [],
   "source": []
  },
  {
   "cell_type": "code",
   "execution_count": null,
   "metadata": {},
   "outputs": [],
   "source": []
  },
  {
   "cell_type": "code",
   "execution_count": null,
   "metadata": {},
   "outputs": [],
   "source": []
  },
  {
   "cell_type": "code",
   "execution_count": null,
   "metadata": {},
   "outputs": [],
   "source": []
  },
  {
   "cell_type": "code",
   "execution_count": null,
   "metadata": {},
   "outputs": [],
   "source": []
  },
  {
   "cell_type": "code",
   "execution_count": null,
   "metadata": {},
   "outputs": [],
   "source": []
  },
  {
   "cell_type": "code",
   "execution_count": null,
   "metadata": {},
   "outputs": [],
   "source": []
  },
  {
   "cell_type": "code",
   "execution_count": null,
   "metadata": {},
   "outputs": [],
   "source": []
  },
  {
   "cell_type": "code",
   "execution_count": null,
   "metadata": {},
   "outputs": [],
   "source": []
  },
  {
   "cell_type": "code",
   "execution_count": null,
   "metadata": {},
   "outputs": [],
   "source": []
  },
  {
   "cell_type": "code",
   "execution_count": null,
   "metadata": {},
   "outputs": [],
   "source": []
  },
  {
   "cell_type": "code",
   "execution_count": null,
   "metadata": {},
   "outputs": [],
   "source": []
  },
  {
   "cell_type": "code",
   "execution_count": null,
   "metadata": {},
   "outputs": [],
   "source": []
  },
  {
   "cell_type": "code",
   "execution_count": null,
   "metadata": {},
   "outputs": [],
   "source": []
  },
  {
   "cell_type": "code",
   "execution_count": null,
   "metadata": {},
   "outputs": [],
   "source": []
  },
  {
   "cell_type": "code",
   "execution_count": null,
   "metadata": {},
   "outputs": [],
   "source": []
  },
  {
   "cell_type": "code",
   "execution_count": null,
   "metadata": {},
   "outputs": [],
   "source": []
  },
  {
   "cell_type": "code",
   "execution_count": null,
   "metadata": {},
   "outputs": [],
   "source": []
  },
  {
   "cell_type": "code",
   "execution_count": null,
   "metadata": {},
   "outputs": [],
   "source": []
  },
  {
   "cell_type": "code",
   "execution_count": null,
   "metadata": {},
   "outputs": [],
   "source": []
  },
  {
   "cell_type": "code",
   "execution_count": null,
   "metadata": {},
   "outputs": [],
   "source": []
  },
  {
   "cell_type": "code",
   "execution_count": null,
   "metadata": {},
   "outputs": [],
   "source": []
  },
  {
   "cell_type": "code",
   "execution_count": null,
   "metadata": {},
   "outputs": [],
   "source": []
  },
  {
   "cell_type": "code",
   "execution_count": null,
   "metadata": {},
   "outputs": [],
   "source": []
  },
  {
   "cell_type": "code",
   "execution_count": null,
   "metadata": {},
   "outputs": [],
   "source": []
  },
  {
   "cell_type": "code",
   "execution_count": null,
   "metadata": {},
   "outputs": [],
   "source": []
  },
  {
   "cell_type": "code",
   "execution_count": null,
   "metadata": {},
   "outputs": [],
   "source": []
  },
  {
   "cell_type": "code",
   "execution_count": null,
   "metadata": {},
   "outputs": [],
   "source": []
  },
  {
   "cell_type": "code",
   "execution_count": null,
   "metadata": {},
   "outputs": [],
   "source": []
  },
  {
   "cell_type": "code",
   "execution_count": null,
   "metadata": {},
   "outputs": [],
   "source": []
  },
  {
   "cell_type": "code",
   "execution_count": null,
   "metadata": {},
   "outputs": [],
   "source": []
  },
  {
   "cell_type": "code",
   "execution_count": null,
   "metadata": {},
   "outputs": [],
   "source": []
  },
  {
   "cell_type": "code",
   "execution_count": null,
   "metadata": {},
   "outputs": [],
   "source": []
  },
  {
   "cell_type": "code",
   "execution_count": null,
   "metadata": {},
   "outputs": [],
   "source": []
  },
  {
   "cell_type": "code",
   "execution_count": null,
   "metadata": {},
   "outputs": [],
   "source": []
  },
  {
   "cell_type": "code",
   "execution_count": null,
   "metadata": {},
   "outputs": [],
   "source": []
  },
  {
   "cell_type": "code",
   "execution_count": null,
   "metadata": {},
   "outputs": [],
   "source": []
  }
 ],
 "metadata": {
  "kernelspec": {
   "display_name": "Python 3",
   "language": "python",
   "name": "python3"
  },
  "language_info": {
   "codemirror_mode": {
    "name": "ipython",
    "version": 3
   },
   "file_extension": ".py",
   "mimetype": "text/x-python",
   "name": "python",
   "nbconvert_exporter": "python",
   "pygments_lexer": "ipython3",
   "version": "3.7.3"
  }
 },
 "nbformat": 4,
 "nbformat_minor": 2
}
