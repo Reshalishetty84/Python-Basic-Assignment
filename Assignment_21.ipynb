{
 "cells": [
  {
   "cell_type": "code",
   "execution_count": 1,
   "metadata": {},
   "outputs": [],
   "source": [
    "#1.Add the current date to the text file today.txt as a string.\n",
    "\n",
    "from datetime import date\n",
    "today =str(date.today())\n",
    "file=open(\"today.txt\",'w')\n",
    "file.write(today)\n",
    "file.close()"
   ]
  },
  {
   "cell_type": "code",
   "execution_count": 2,
   "metadata": {},
   "outputs": [
    {
     "data": {
      "text/plain": [
       "'2022-06-01'"
      ]
     },
     "execution_count": 2,
     "metadata": {},
     "output_type": "execute_result"
    }
   ],
   "source": [
    "#2.Read the text file today.txt into the string today_string\n",
    "\n",
    "file=open(\"today.txt\",'r')\n",
    "today_string=file.read()\n",
    "today_string"
   ]
  },
  {
   "cell_type": "code",
   "execution_count": 3,
   "metadata": {},
   "outputs": [
    {
     "name": "stdout",
     "output_type": "stream",
     "text": [
      "2022-06-01 00:00:00\n",
      "01/06/2022\n"
     ]
    }
   ],
   "source": [
    "#3.Parse the date from today_string.\n",
    "\n",
    "from dateutil.parser import parse\n",
    "dt = parse(today_string)\n",
    "print(dt)\n",
    "print(dt.strftime('%d/%m/%Y'))"
   ]
  },
  {
   "cell_type": "code",
   "execution_count": 4,
   "metadata": {},
   "outputs": [
    {
     "name": "stdout",
     "output_type": "stream",
     "text": [
      "['.ipynb_checkpoints', '1.17.3', 'airfoil_self_noise.dat', 'Assignment_10.ipynb', 'Assignment_11.ipynb', 'Assignment_12.ipynb', 'Assignment_13.ipynb', 'Assignment_14.ipynb', 'Assignment_15.ipynb', 'Assignment_16.ipynb', 'Assignment_17.ipynb', 'Assignment_18.ipynb', 'Assignment_19.ipynb', 'Assignment_20.ipynb', 'Assignment_21.ipynb', 'Assignment_23.ipynb', 'Assignment_24.ipynb', 'Assignment_25.ipynb', 'Assignment_3.ipynb', 'Assignment_4.ipynb', 'Assignment_5.ipynb', 'Assignment_6.ipynb', 'Assignment_7.ipynb', 'Assignment_8.ipynb', 'Assignment_9.ipynb', 'books.csv', 'books.db', 'car.data', 'car1.data', 'download.jfif', 'glass.data', 'goggle.txt', 'GUI.ipynb', 'inueron.db', 'joindb.db', 'LiveClassAssignment.ipynb', 'Mongodb credentials.txt', 'mrkcd_sem12.pdf', 'my_module', 'my_module.py', 'panda.csv', 'PANDAS.ipynb', 'pdfFileReader.ipynb', 'person.db', 'practice.ipynb', 'programLog.txt', 'rotatedPage.pdf', 'SQL basic.ipynb', 'sql day 2 .ipynb', 'SQLLITE AND CASSANDRA.ipynb', 'SVM-Kernels-main', 'SVM-Kernels-main.zip', 'test.txt', 'test1.py', 'test2.py', 'testing.csv', 'text.log', 'text.txt', 'text0.txt', 'text1.txt', 'text2.log', 'text3.log', 'text9.txt', 'today.txt', 'Untitled.ipynb', 'Untitled1.ipynb', 'Untitled2.ipynb', 'zoo.py', '__pycache__']\n"
     ]
    }
   ],
   "source": [
    "#4.List the files in your current directory\n",
    "\n",
    "import os\n",
    "arr = os.listdir('.')\n",
    "print(arr)"
   ]
  },
  {
   "cell_type": "code",
   "execution_count": 5,
   "metadata": {},
   "outputs": [
    {
     "name": "stdout",
     "output_type": "stream",
     "text": [
      "['.cricket.csv', 'Assignment_10.docx', 'Assignment_10.ipynb', 'Assignment_11.docx', 'Assignment_11.ipynb', 'Assignment_12.docx', 'Assignment_12.ipynb', 'Assignment_13.docx', 'Assignment_13.ipynb', 'Assignment_14.docx', 'Assignment_14.ipynb', 'Assignment_15.docx', 'Assignment_15.ipynb', 'Assignment_16.docx', 'Assignment_16.ipynb', 'Assignment_17.docx', 'Assignment_17.ipynb', 'Assignment_18.docx', 'Assignment_18.ipynb', 'Assignment_19.docx', 'Assignment_19.ipynb', 'Assignment_20.docx', 'Assignment_20.ipynb', 'Assignment_21.docx', 'Assignment_22.docx', 'Assignment_23.docx', 'Assignment_24.docx', 'Assignment_24.ipynb', 'Assignment_25.docx', 'Assignment_25.ipynb', 'Assignment_3.docx', 'Assignment_3.ipynb', 'Assignment_4.docx', 'Assignment_4.ipynb', 'Assignment_5.docx', 'Assignment_5.ipynb', 'Assignment_6.docx', 'Assignment_6.ipynb', 'Assignment_7.docx', 'Assignment_7.ipynb', 'Assignment_8.docx', 'Assignment_8.ipynb', 'Assignment_9.docx', 'Assignment_9.ipynb', 'Book1.xlsx', 'Credential', 'cricket.csv', 'NBA.csv', 'panda.csv', 'sample.csv', 'testing', 'testing.csv']\n"
     ]
    }
   ],
   "source": [
    "#5.Create a list of all of the files in your parent directory (minimum five files should be available).\n",
    "\n",
    "print(os.listdir('F:/FSDS'))"
   ]
  },
  {
   "cell_type": "code",
   "execution_count": 6,
   "metadata": {},
   "outputs": [
    {
     "name": "stdout",
     "output_type": "stream",
     "text": [
      "Waiting for 4 seconds\n",
      "2022-06-01 08:19:09.819165\n",
      "Waiting for 5 seconds\n",
      "2022-06-01 08:19:14.833573\n",
      "Waiting for 2 seconds\n",
      "2022-06-01 08:19:16.845192\n",
      "2022-06-01 08:19:16.847104\n",
      "It takes 11.226179838180542 seconds\n"
     ]
    }
   ],
   "source": [
    "#6. Use multiprocessing to create three separate processes. Make each one wait a random number of seconds between one and five, print the current time, and then exit.\n",
    "\n",
    "import multiprocessing,time,datetime\n",
    "import zoo \n",
    "\n",
    "start = time.time()\n",
    "process1 = zoo.process1()\n",
    "process2 = zoo.process1()\n",
    "process3 = zoo.process1()\n",
    "\n",
    "print(datetime.datetime.now())\n",
    "if __name__==\"__main__\":\n",
    "    \n",
    "    \n",
    "    \n",
    "    p1 = multiprocessing.Process(target=process1)\n",
    "    p2 = multiprocessing.Process(target=process2)\n",
    "    p3 = multiprocessing.Process(target=process3)\n",
    "\n",
    "    p1.start()\n",
    "    p2.start()\n",
    "    p3.start()\n",
    "\n",
    "    p1.join()\n",
    "    p2.join()\n",
    "    p3.join()\n",
    "\n",
    "end = time.time()\n",
    "    \n",
    "\n",
    "print(\"It takes \" +str(end-start)+\" seconds\")\n"
   ]
  },
  {
   "cell_type": "code",
   "execution_count": 7,
   "metadata": {},
   "outputs": [
    {
     "name": "stdout",
     "output_type": "stream",
     "text": [
      "Enter your date of birth: 18/9/1989\n",
      "Day: 18\n",
      "Month: 9\n",
      "Year: 1989\n"
     ]
    }
   ],
   "source": [
    "#7.Create a date object of your day of birth.\n",
    "\n",
    "from datetime import datetime\n",
    "birthday = input(\"Enter your date of birth: \")\n",
    "bday = datetime.strptime(birthday, '%d/%m/%Y')\n",
    "print(f'Day: {bday.day}')\n",
    "print(f'Month: {bday.month}')\n",
    "print(f'Year: {bday.year}')"
   ]
  },
  {
   "cell_type": "code",
   "execution_count": 8,
   "metadata": {},
   "outputs": [
    {
     "name": "stdout",
     "output_type": "stream",
     "text": [
      "Enter your date of birth: 18/9/1989\n"
     ]
    },
    {
     "data": {
      "text/plain": [
       "'Monday'"
      ]
     },
     "execution_count": 8,
     "metadata": {},
     "output_type": "execute_result"
    }
   ],
   "source": [
    "#8.What day of the week was your day of birth?\n",
    "\n",
    "from datetime import datetime\n",
    "import calendar\n",
    "def findDay(birthday):\n",
    "    birthday = input(\"Enter your date of birth: \")\n",
    "    bday = datetime.strptime(birthday, '%d/%m/%Y').weekday()\n",
    "    day=calendar.day_name[bday]\n",
    "    return day\n",
    "findDay(birthday)"
   ]
  },
  {
   "cell_type": "code",
   "execution_count": 10,
   "metadata": {},
   "outputs": [
    {
     "name": "stdout",
     "output_type": "stream",
     "text": [
      "Enter your Birth Year: 1989\n",
      "Enter your Birth month: 9\n",
      "Enter your Birth day: 18\n",
      "2017-02-03\n"
     ]
    }
   ],
   "source": [
    "#9.When will you be (or when were you) 10,000 days old?\n",
    "\n",
    "import datetime\n",
    "year = int(input(\"Enter your Birth Year: \"))\n",
    "month = int(input(\"Enter your Birth month: \"))\n",
    "day = int(input(\"Enter your Birth day: \"))\n",
    "start_date = datetime.datetime(year, month, day)\n",
    "end_date = start_date + datetime.timedelta(days=10000)\n",
    "print(end_date.date())"
   ]
  },
  {
   "cell_type": "code",
   "execution_count": null,
   "metadata": {},
   "outputs": [],
   "source": []
  }
 ],
 "metadata": {
  "kernelspec": {
   "display_name": "Python 3",
   "language": "python",
   "name": "python3"
  },
  "language_info": {
   "codemirror_mode": {
    "name": "ipython",
    "version": 3
   },
   "file_extension": ".py",
   "mimetype": "text/x-python",
   "name": "python",
   "nbconvert_exporter": "python",
   "pygments_lexer": "ipython3",
   "version": "3.7.1"
  }
 },
 "nbformat": 4,
 "nbformat_minor": 2
}
