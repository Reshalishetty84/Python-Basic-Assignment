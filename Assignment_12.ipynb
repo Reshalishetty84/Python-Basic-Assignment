{
 "cells": [
  {
   "cell_type": "markdown",
   "metadata": {},
   "source": [
    "1.In what modes should the PdfFileReader() and PdfFileWriter() File objects will be opened?\n",
    "\n",
    "PdfFileReader():Needs to be opened in read-binary mode by passing 'rb' as the second argument to open().\n",
    "PdfFileWriter():The File object passed to PdfFileWriter() needs to be opened in write-binary mode with 'wb'."
   ]
  },
  {
   "cell_type": "markdown",
   "metadata": {},
   "source": [
    "2.From a PdfFileReader object, how do you get a Page object for page 5?\n",
    "\n",
    " Calling getPage(4) will get a Page object for page 5, since page 0 is the first page."
   ]
  },
  {
   "cell_type": "markdown",
   "metadata": {},
   "source": [
    "3.What PdfFileReader variable stores the number of pages in the PDF document?\n",
    "\n",
    "The total number of pages in the document is stored in the numPages attribute of a PdfFileReader object"
   ]
  },
  {
   "cell_type": "markdown",
   "metadata": {},
   "source": [
    "4.If a PdfFileReader object’s PDF is encrypted with the password swordfish, what must you do before you can obtain Page objects from it?\n",
    "\n",
    "If a PdfFileReader object’s PDF is encrypted with the password swordfish, call decrypt('swordfish') before you can obtain page objects from it."
   ]
  },
  {
   "cell_type": "markdown",
   "metadata": {},
   "source": [
    "5.What methods do you use to rotate a page?\n",
    "\n",
    "The pages of a PDF can be rotated in 90-degree increments with the rotateClockwise() and rotateCounterClockwise() methods."
   ]
  },
  {
   "cell_type": "markdown",
   "metadata": {},
   "source": [
    "6.What is the difference between a Run object and a Paragraph object?\n",
    "\n",
    "Paragraph Object:A document contains multiple paragraphs. A paragraph begins on a new line and contains multiple runs.\n",
    "\n",
    "Run Object:Runs are contiguous groups of characters within a paragraph."
   ]
  },
  {
   "cell_type": "markdown",
   "metadata": {},
   "source": [
    "7.How do you obtain a list of Paragraph objects for a Document object that’s stored in a variable named doc?\n",
    "\n",
    "doc.paragraphs is used to obtain a list of Paragraph objects for a Document object that’s stored in a variable named doc."
   ]
  },
  {
   "cell_type": "markdown",
   "metadata": {},
   "source": [
    "8.What type of object has bold, underline, italic, strike, and outline variables?\n",
    "\n",
    "The run object has bold, underline, italic, strike, and outline variables."
   ]
  },
  {
   "cell_type": "markdown",
   "metadata": {},
   "source": [
    "9.What is the difference between False, True, and None for the bold variable?\n",
    "\n",
    "False:False makes it always not bolded, no matter what the style's bold setting is.\n",
    "\n",
    "True:True always makes the Run object bolded.\n",
    "\n",
    "None:None will make the Run object just use the style's bold setting."
   ]
  },
  {
   "cell_type": "markdown",
   "metadata": {},
   "source": [
    "10.How do you create a Document object for a new Word document?\n",
    "\n",
    "docx.Document() function is used to create a document object for a new word document."
   ]
  },
  {
   "cell_type": "markdown",
   "metadata": {},
   "source": [
    "11.How do you add a paragraph with the text 'Hello, there!' to a Document object stored in a variable named doc?\n",
    "\n",
    "doc.add_paragraph('Hello there!')"
   ]
  },
  {
   "cell_type": "markdown",
   "metadata": {},
   "source": [
    "12.What integers represent the levels of headings available in Word documents?\n",
    "\n",
    "0,1,2,3 and 4 integers represent the levels of headings available in Word documents"
   ]
  },
  {
   "cell_type": "code",
   "execution_count": null,
   "metadata": {},
   "outputs": [],
   "source": []
  },
  {
   "cell_type": "code",
   "execution_count": null,
   "metadata": {},
   "outputs": [],
   "source": []
  },
  {
   "cell_type": "code",
   "execution_count": null,
   "metadata": {},
   "outputs": [],
   "source": []
  },
  {
   "cell_type": "code",
   "execution_count": null,
   "metadata": {},
   "outputs": [],
   "source": []
  }
 ],
 "metadata": {
  "kernelspec": {
   "display_name": "Python 3",
   "language": "python",
   "name": "python3"
  },
  "language_info": {
   "codemirror_mode": {
    "name": "ipython",
    "version": 3
   },
   "file_extension": ".py",
   "mimetype": "text/x-python",
   "name": "python",
   "nbconvert_exporter": "python",
   "pygments_lexer": "ipython3",
   "version": "3.7.1"
  }
 },
 "nbformat": 4,
 "nbformat_minor": 2
}
