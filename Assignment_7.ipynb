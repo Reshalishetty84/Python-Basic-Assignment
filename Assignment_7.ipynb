{
 "cells": [
  {
   "cell_type": "markdown",
   "metadata": {},
   "source": [
    "1.What is the name of the feature responsible for generating Regex objects?\n",
    "\n",
    "The feature responsible for generating regex objects is re.compile()."
   ]
  },
  {
   "cell_type": "markdown",
   "metadata": {},
   "source": [
    "2.Why do raw strings often appear in Regex objects?\n",
    "\n",
    "Raw strings are used so that backslashes do not have to be escaped."
   ]
  },
  {
   "cell_type": "markdown",
   "metadata": {},
   "source": [
    "3.What is the return value of the search() method?\n",
    "\n",
    "The return value of the search() method is match objects."
   ]
  },
  {
   "cell_type": "markdown",
   "metadata": {},
   "source": [
    "4.From a Match item, how do you get the actual strings that match the pattern?\n",
    "\n",
    " group() method gives the actual strings that match the pattern from a match item."
   ]
  },
  {
   "cell_type": "markdown",
   "metadata": {},
   "source": [
    "5.In the regex which created from the r'(\\d\\d\\d)-(\\d\\d\\d-\\d\\d\\d\\d)', what does group zero cover? Group 2? Group 1?\n",
    "\n",
    "Group 0 covers the entire match and group 2 covers the second set of parentheses and group 1 covers the first set of parentheses."
   ]
  },
  {
   "cell_type": "raw",
   "metadata": {},
   "source": [
    "6.In standard expression syntax, parentheses and intervals have distinct meanings. How can you tell a regex that you want it to fit real parentheses and periods?\n",
    "\n",
    "By using backslash(\\) that is \\.,\\( and \\)."
   ]
  },
  {
   "cell_type": "markdown",
   "metadata": {},
   "source": [
    "7.The findall() method returns a string list or a list of string tuples. What causes it to return one of the two options?\n",
    "\n",
    "If the regex has no groups, a list of strings is returned.If the regex has groups, a list of tuples of strings is returned."
   ]
  },
  {
   "cell_type": "markdown",
   "metadata": {},
   "source": [
    "8.In standard expressions, what does the | character mean?\n",
    "\n",
    "In standard expressions the | character mean  matching “either, or” between two groups."
   ]
  },
  {
   "cell_type": "markdown",
   "metadata": {},
   "source": [
    "9.In regular expressions, what does the character stand for?\n",
    "\n",
    "A character set is an explicit list of the characters that may qualify for a match in a search.A character set is indicated by enclosing a set of characters in brackets [].For instance, the character set [abz] will match any of the characters a, b, or z, or a combination of these such as ab, za, or baz.\n",
    "\n",
    "The ? character can either mean “match zero or one of the preceding group” or be used to signify nongreedy matching."
   ]
  },
  {
   "cell_type": "markdown",
   "metadata": {},
   "source": [
    "10.In regular expressions, what is the difference between the + and * characters?\n",
    "\n",
    "The star quantifier(*) means that the preceding expression can match zero or more times it is like {0,} while the plus quantifier(+) indicate that the preceding expression MUST match at least one time or multiple times and it is the same as {1,} ."
   ]
  },
  {
   "cell_type": "markdown",
   "metadata": {},
   "source": [
    "11.What is the difference between {4} and {4,5} in regular expression?\n",
    "\n",
    "The {4} matches exactly 4 instances of the preceding group. The {4,5} matches between 4 and 5 instances."
   ]
  },
  {
   "cell_type": "markdown",
   "metadata": {},
   "source": [
    "12.What do you mean by the \\d, \\w, and \\s shorthand character classes signify in regular expressions?\n",
    "\n",
    "\\d (digit) matches any single digit (same as [0-9]),\\w (word character) matches any single letter, number or underscore (same as [a-zA-Z0-9_]),\\s (space) matches any single whitespace (same as [ \\t\\n\\r\\f], blank, tab, newline, carriage-return and form-feed)."
   ]
  },
  {
   "cell_type": "markdown",
   "metadata": {},
   "source": [
    "13.What do means by \\D, \\W, and \\S shorthand character classes signify in regular expressions?\n",
    "\n",
    "The uppercase counterpart \\D (non-digit) matches any single character that is not a digit (same as [^0-9]),The uppercase counterpart \\W (non-word-character) matches any single character that doesn't match by \\w (same as [^a-zA-Z0-9_]),The uppercase counterpart \\S (non-space) matches any single character that doesn't match by \\s (same as [^ \\t\\n\\r\\f])."
   ]
  },
  {
   "cell_type": "raw",
   "metadata": {},
   "source": [
    "14.What is the difference between .*? and .*?\n",
    "\n",
    "The difference between .*? and .* is .*? performs a nongreedy match and .* performs a greedy match."
   ]
  },
  {
   "cell_type": "markdown",
   "metadata": {},
   "source": [
    "15.What is the syntax for matching both numbers and lowercase letters with a character class?\n",
    "\n",
    "The syntax for matching both numbers and lowercase letters with a character class is either [0-9a-z] or [a-z0-9]"
   ]
  },
  {
   "cell_type": "markdown",
   "metadata": {},
   "source": [
    "16.What is the procedure for making a normal expression in regax case insensitive?\n",
    "\n",
    "The procedure for making a normal expression in regax case insensitive is by using re. IGNORECASE."
   ]
  },
  {
   "cell_type": "markdown",
   "metadata": {},
   "source": [
    "17.What does the . character normally match? What does it match if re.DOTALL is passed as 2nd argument in re.compile()?\n",
    "\n",
    "The . (period) special character matches any single character except \\n (newline).If re.DOTALL is passed as the 2nd argument in re.compile() then the dot will also match newline characters."
   ]
  },
  {
   "cell_type": "markdown",
   "metadata": {},
   "source": [
    "18.If numReg = re.compile(r'\\d+'), what will numRegex.sub('X', '11 drummers, 10 pipers, five rings, 4 hen') return?\n",
    "\n",
    "will get the error as NameError: name 'numRegex' is not defined.\n",
    "   \n",
    "so if we consider numRegex.sub('X', '11 drummers, 10 pipers, five rings, 4 hen') as numReg.sub('X', '11 drummers, 10 pipers, five rings, 4 hen') then it will return 'X drummers, X pipers, five rings, X hen'."
   ]
  },
  {
   "cell_type": "markdown",
   "metadata": {},
   "source": [
    "19.What does passing re.VERBOSE as the 2nd argument to re.compile() allow to do?\n",
    "\n",
    "The re.VERBOSE argument allows to add whitespace and comments to the string passed to re.compile()."
   ]
  },
  {
   "cell_type": "markdown",
   "metadata": {},
   "source": [
    "20.How would you write a regex that match a number with comma for every three digits? It must match the given following:\n",
    "'42',\n",
    "'1,234',\n",
    "'6,368,745',\n",
    "but not the following:\n",
    "'12,34,567' (which has only two digits between the commas),\n",
    "'1234' (which lacks commas)\n",
    "\n",
    "A regex that match a number with comma for every three digits is re.compile(r'^\\d{1,3}(,\\d{3})*$')"
   ]
  },
  {
   "cell_type": "raw",
   "metadata": {},
   "source": [
    "21.How would you write a regex that matches the full name of someone whose last name is Watanabe? You can assume that the first name that comes before it will always be one word that begins with a capital letter. The regex must match the following:\n",
    "'Haruto Watanabe',\n",
    "'Alice Watanabe',\n",
    "'RoboCop Watanabe',\n",
    "but not the following:\n",
    "'haruto Watanabe' (where the first name is not capitalized),\n",
    "'Mr. Watanabe' (where the preceding word has a nonletter character),\n",
    "'Watanabe' (which has no first name),\n",
    "'Haruto watanabe' (where Watanabe is not capitalized),\n",
    "\n",
    "re.compile(r'[A-Z](?:\\w)+\\sWatanabe')"
   ]
  },
  {
   "cell_type": "markdown",
   "metadata": {},
   "source": [
    "22.How would you write a regex that matches a sentence where the first word is either Alice, Bob, or Carol; the second word is either eats, pets, or throws; the third word is apples, cats, or baseballs; and the sentence ends with a period? This regex should be case-insensitive. It must match the following:\n",
    "'Alice eats apples.',\n",
    "'Bob pets cats.',\n",
    "'Carol throws baseballs.',\n",
    "'Alice throws Apples.',\n",
    "'BOB EATS CATS.',\n",
    "but not the following:\n",
    "'RoboCop eats apples.',\n",
    "'ALICE THROWS FOOTBALLS.',\n",
    "'Carol eats 7 cats.',\n",
    "\n",
    "re.compile(r'(Alice|Bob|Carol)\\s(eats|pets|throws)\\s(apples|cats|baseballs)\\.', re.IGNORECASE)"
   ]
  },
  {
   "cell_type": "code",
   "execution_count": null,
   "metadata": {},
   "outputs": [],
   "source": []
  },
  {
   "cell_type": "code",
   "execution_count": null,
   "metadata": {},
   "outputs": [],
   "source": []
  },
  {
   "cell_type": "code",
   "execution_count": null,
   "metadata": {},
   "outputs": [],
   "source": []
  },
  {
   "cell_type": "code",
   "execution_count": null,
   "metadata": {},
   "outputs": [],
   "source": []
  },
  {
   "cell_type": "code",
   "execution_count": null,
   "metadata": {},
   "outputs": [],
   "source": []
  },
  {
   "cell_type": "code",
   "execution_count": null,
   "metadata": {},
   "outputs": [],
   "source": []
  },
  {
   "cell_type": "code",
   "execution_count": null,
   "metadata": {},
   "outputs": [],
   "source": []
  },
  {
   "cell_type": "code",
   "execution_count": null,
   "metadata": {},
   "outputs": [],
   "source": []
  },
  {
   "cell_type": "code",
   "execution_count": null,
   "metadata": {},
   "outputs": [],
   "source": []
  },
  {
   "cell_type": "code",
   "execution_count": null,
   "metadata": {},
   "outputs": [],
   "source": []
  },
  {
   "cell_type": "code",
   "execution_count": null,
   "metadata": {},
   "outputs": [],
   "source": []
  },
  {
   "cell_type": "code",
   "execution_count": null,
   "metadata": {},
   "outputs": [],
   "source": []
  },
  {
   "cell_type": "code",
   "execution_count": null,
   "metadata": {},
   "outputs": [],
   "source": []
  },
  {
   "cell_type": "code",
   "execution_count": null,
   "metadata": {},
   "outputs": [],
   "source": []
  },
  {
   "cell_type": "code",
   "execution_count": null,
   "metadata": {},
   "outputs": [],
   "source": []
  }
 ],
 "metadata": {
  "kernelspec": {
   "display_name": "Python 3",
   "language": "python",
   "name": "python3"
  },
  "language_info": {
   "codemirror_mode": {
    "name": "ipython",
    "version": 3
   },
   "file_extension": ".py",
   "mimetype": "text/x-python",
   "name": "python",
   "nbconvert_exporter": "python",
   "pygments_lexer": "ipython3",
   "version": "3.7.1"
  }
 },
 "nbformat": 4,
 "nbformat_minor": 2
}
